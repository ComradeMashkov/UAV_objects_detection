{
 "cells": [
  {
   "cell_type": "code",
   "execution_count": 1,
   "id": "d92d2057-4314-404c-a594-0f02247a1528",
   "metadata": {},
   "outputs": [
    {
     "name": "stdout",
     "output_type": "stream",
     "text": [
      "best.pt\n",
      "img.png\n",
      "runs\n",
      "test.ipynb\n"
     ]
    }
   ],
   "source": [
    "!ls"
   ]
  },
  {
   "cell_type": "code",
   "execution_count": 2,
   "id": "084bb993-1743-4b68-a1d1-d7f3a3ce762b",
   "metadata": {},
   "outputs": [],
   "source": [
    "from ultralytics import YOLO"
   ]
  },
  {
   "cell_type": "code",
   "execution_count": 3,
   "id": "21e27703-daf2-4238-b680-ebcdd491dbc9",
   "metadata": {},
   "outputs": [],
   "source": [
    "model = YOLO('best.pt')"
   ]
  },
  {
   "cell_type": "code",
   "execution_count": 4,
   "id": "cda87f3d-339b-4498-931d-592803b6ca55",
   "metadata": {},
   "outputs": [
    {
     "name": "stdout",
     "output_type": "stream",
     "text": [
      "\n",
      "image 1/1 Z:\\Университет\\НИР\\7 семестр\\src\\img.png: 416x416 6 planes, 72.0ms\n",
      "Speed: 1.0ms preprocess, 72.0ms inference, 1.0ms postprocess per image at shape (1, 3, 416, 416)\n",
      "Results saved to \u001b[1mruns\\detect\\predict2\u001b[0m\n"
     ]
    }
   ],
   "source": [
    "results = model(source='img.png', show=False, conf=0.5, save=True)"
   ]
  },
  {
   "cell_type": "code",
   "execution_count": 7,
   "id": "289eebb9-c7eb-4604-8c1b-12e1081fb915",
   "metadata": {},
   "outputs": [
    {
     "name": "stdout",
     "output_type": "stream",
     "text": [
      "tensor([[181.6846, 223.9051, 373.5722, 440.6926],\n",
      "        [334.6900, 315.6577, 508.1539, 515.5002],\n",
      "        [ 63.8690, 147.7404, 235.1215, 360.8167],\n",
      "        [  0.0000,  15.9815, 129.0451, 231.0303],\n",
      "        [  0.0000, 409.4079,  99.0150, 542.0000],\n",
      "        [466.7266, 184.6733, 548.0000, 395.8152]])\n"
     ]
    }
   ],
   "source": [
    "# View results\n",
    "for r in results:\n",
    "    print(r.boxes.xyxy)  # print the Boxes object containing the detection bounding boxes"
   ]
  },
  {
   "cell_type": "code",
   "execution_count": null,
   "id": "65789019-2ef2-4bb1-b513-f86ce63d9187",
   "metadata": {},
   "outputs": [],
   "source": []
  }
 ],
 "metadata": {
  "kernelspec": {
   "display_name": "Python 3 (ipykernel)",
   "language": "python",
   "name": "python3"
  },
  "language_info": {
   "codemirror_mode": {
    "name": "ipython",
    "version": 3
   },
   "file_extension": ".py",
   "mimetype": "text/x-python",
   "name": "python",
   "nbconvert_exporter": "python",
   "pygments_lexer": "ipython3",
   "version": "3.11.5"
  }
 },
 "nbformat": 4,
 "nbformat_minor": 5
}
